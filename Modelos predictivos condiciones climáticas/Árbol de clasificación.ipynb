{
 "cells": [
  {
   "cell_type": "markdown",
   "metadata": {},
   "source": [
    "# Árbol de clasificación"
   ]
  },
  {
   "cell_type": "markdown",
   "metadata": {},
   "source": [
    "## 1. Importación de paquetes y librerías"
   ]
  },
  {
   "cell_type": "code",
   "execution_count": 21,
   "metadata": {},
   "outputs": [],
   "source": [
    "%matplotlib inline\n",
    "\n",
    "import numpy as np\n",
    "import pandas as pd\n",
    "from sklearn import tree\n",
    "from sklearn.tree import DecisionTreeRegressor\n",
    "from sklearn.externals.six import StringIO\n",
    "from sklearn.metrics import r2_score, mean_squared_error,median_absolute_error\n",
    "from sklearn.model_selection import cross_val_score\n",
    "from statsmodels.graphics.api import abline_plot\n",
    "import statsmodels.api as sm\n",
    "import matplotlib.pyplot as plt\n",
    "from sklearn import preprocessing\n",
    "from sklearn.model_selection import train_test_split, learning_curve, ShuffleSplit, GridSearchCV\n",
    "import statsmodels.api as sm\n",
    "from statsmodels.graphics.api import abline_plot"
   ]
  },
  {
   "cell_type": "markdown",
   "metadata": {},
   "source": [
    "## 2. Importar datos y asignar variables"
   ]
  },
  {
   "cell_type": "code",
   "execution_count": 22,
   "metadata": {},
   "outputs": [],
   "source": [
    "loc=r\"../interacciones_mensuales.csv\"\n",
    "data=pd.read_csv(loc,encoding=\"latin1\",index_col=False,decimal=\",\",engine=\"python\")\n",
    "data = data.drop(data.columns[-20:], axis=1)\n",
    "\n",
    "data=data[((data.Total-data.Total.mean()) / data.Total.std()).abs() <3]"
   ]
  },
  {
   "cell_type": "markdown",
   "metadata": {},
   "source": [
    "### Identificación de hiper-parámetros"
   ]
  },
  {
   "cell_type": "code",
   "execution_count": 23,
   "metadata": {},
   "outputs": [],
   "source": [
    "X = data.drop([\"Total\",\"Year\",\"Cod\",'P_days'],axis=1) # Asignar variables independientes\n",
    "nombres = data.drop([\"Total\",\"Year\",\"Cod\",'P_days'],axis=1).columns # Nombre de las variables dependientes\n",
    "y = data['Total'] # Asignar variable dependiente\n",
    "\n",
    "X_train,X_test,y_train,y_test=train_test_split(X,y,test_size=0.2)"
   ]
  },
  {
   "cell_type": "code",
   "execution_count": 24,
   "metadata": {},
   "outputs": [
    {
     "name": "stderr",
     "output_type": "stream",
     "text": [
      "C:\\Users\\Usuario\\Anaconda3\\lib\\site-packages\\sklearn\\model_selection\\_search.py:841: DeprecationWarning: The default of the `iid` parameter will change from True to False in version 0.22 and will be removed in 0.24. This will change numeric results when test-set sizes are unequal.\n",
      "  DeprecationWarning)\n"
     ]
    },
    {
     "data": {
      "text/plain": [
       "{'max_depth': 7, 'max_features': 8, 'min_samples_split': 0.1}"
      ]
     },
     "execution_count": 24,
     "metadata": {},
     "output_type": "execute_result"
    }
   ],
   "source": [
    "model = GridSearchCV(DecisionTreeRegressor(max_depth=5,min_samples_split=2,\n",
    "                                          criterion=\"mae\"), cv=5,\n",
    "                   param_grid={\"max_depth\": [4, 5, 6, 7, 8, 9, 10],\n",
    "                               \"min_samples_split\":np.linspace(0.1,1.0,10,endpoint=True),\n",
    "                               \"max_features\":list(range(1,len(nombres)))})\n",
    "model.fit(X_train,y_train);\n",
    "\n",
    "model.best_params_"
   ]
  },
  {
   "cell_type": "markdown",
   "metadata": {},
   "source": [
    "## 3. Ajuste y validación de los modelos"
   ]
  },
  {
   "cell_type": "markdown",
   "metadata": {},
   "source": [
    "### Hold out"
   ]
  },
  {
   "cell_type": "code",
   "execution_count": 45,
   "metadata": {},
   "outputs": [
    {
     "name": "stdout",
     "output_type": "stream",
     "text": [
      "R^2: 0.3135\n",
      "RMSE: 29.2999\n",
      "MAE: 11.7753\n"
     ]
    }
   ],
   "source": [
    "R_2=[]\n",
    "RMSE=[]\n",
    "MAE=[]\n",
    "pred=[0]\n",
    "obs=[0]\n",
    "\n",
    "for i in range(100):\n",
    "    X = data.drop([\"Total\",\"Year\",\"Cod\",'P_days'],axis=1) # Asignar variables independientes\n",
    "    nombres = data.drop([\"Total\",\"Year\",\"Cod\",'P_days'],axis=1).columns # Nombre de las variables dependientes\n",
    "    y = data['Total'] # Asignar variable dependiente\n",
    "\n",
    "    X_train,X_test,y_train,y_test=train_test_split(X,y,test_size=0.2)\n",
    "    \n",
    "    cacaotreeModel=DecisionTreeRegressor(max_depth=model.best_params_['max_depth'],\n",
    "                                         min_samples_split=model.best_params_['min_samples_split'],\n",
    "                                         max_features=model.best_params_['max_features'],criterion=\"mae\")\n",
    "    cacaotreeModel.fit(X_train,y_train)\n",
    "    errorVector=y_test-cacaotreeModel.predict(X_test)\n",
    "    \n",
    "    r_2=r2_score(y_test,cacaotreeModel.predict(X_test))\n",
    "    R_2.append(r_2)\n",
    "    RMSE.append(np.linalg.norm((y_test-cacaotreeModel.predict(X_test)),2)/np.sqrt(len(y_test)))\n",
    "    MAE.append(median_absolute_error(y_test,cacaotreeModel.predict(X_test)))\n",
    "    \n",
    "    if r_2 >= max(R_2):\n",
    "        pred[0]=cacaotreeModel.predict(X_test)\n",
    "        obs[0]=y_test\n",
    "        \n",
    "        X_Test = X_test\n",
    "        y_Test = y_test\n",
    "        modelo = cacaotreeModel\n",
    "        \n",
    "        with open(\"arbol_1.dot\",\"w\") as f:\n",
    "            f= tree.export_graphviz(cacaotreeModel, out_file=f,filled=True, rounded=True,special_characters=True)\n",
    "        b=cacaotreeModel.feature_importances_\n",
    "        a=[]\n",
    "        for i in range(len(nombres)):\n",
    "            a.append(b[i])\n",
    "        importa=pd.DataFrame(list(zip(nombres,a)),columns=[\"Variable\",\"Importancia de Gini\"])\n",
    "        \n",
    "print(\"R^2: %.4f\" % np.mean(R_2))\n",
    "print(\"RMSE: %.4f\" % np.mean(RMSE))\n",
    "print(\"MAE: %.4f\" % np.mean(MAE))"
   ]
  },
  {
   "cell_type": "code",
   "execution_count": 27,
   "metadata": {},
   "outputs": [
    {
     "data": {
      "text/plain": [
       "(0.5887387330357858,\n",
       " -0.11050314737677791,\n",
       " 0.13202078768212874,\n",
       " 0.3373734094512436,\n",
       " 0.1049443155878118)"
      ]
     },
     "execution_count": 27,
     "metadata": {},
     "output_type": "execute_result"
    }
   ],
   "source": [
    "max(R_2), min(R_2), np.std(R_2), np.mean(R_2),np.std(RMSE)/np.mean(RMSE) "
   ]
  },
  {
   "cell_type": "code",
   "execution_count": 28,
   "metadata": {},
   "outputs": [
    {
     "data": {
      "text/plain": [
       "<Figure size 432x288 with 0 Axes>"
      ]
     },
     "metadata": {},
     "output_type": "display_data"
    },
    {
     "data": {
      "image/png": "[encoded data removed]",
      "text/plain": [
       "<Figure size 432x288 with 1 Axes>"
      ]
     },
     "metadata": {
      "needs_background": "light"
     },
     "output_type": "display_data"
    }
   ],
   "source": [
    "obs,pred = np.array(obs).flatten(), np.array(pred).flatten() \n",
    "\n",
    "plt.figure(\"Diagrama de dispersión\")\n",
    "fig,ax=plt.subplots()\n",
    "ax.scatter(pred,obs,s=100,alpha=0.3,c=\"b\")\n",
    "line_fit=sm.OLS(obs,sm.add_constant(pred,prepend=True)).fit()\n",
    "abline_plot(model_results=line_fit,ax=ax,c=\"b\",label=round(r2_score(obs,pred),4))\n",
    "plt.xlabel(\"Prognostic value\")\n",
    "plt.ylabel(\"Observed value\")\n",
    "plt.legend()\n",
    "plt.show()"
   ]
  },
  {
   "cell_type": "code",
   "execution_count": 29,
   "metadata": {},
   "outputs": [],
   "source": [
    "# Guardar los errores y el R^2\n",
    "pd.DataFrame([R_2,MAE],index=[\"R^2\",\"MAE\"]).T.to_csv(\"Ajustes arbol.csv\",decimal=\",\")\n",
    "\n",
    "# Almacenar mejores resultados\n",
    "\n",
    "res=pd.DataFrame([np.array(pred).flatten(),np.array(obs).flatten()]).T\n",
    "res.columns=[\"Pronosticado\",\"Observado\"]\n",
    "res.to_csv(\"res_arbol.csv\",decimal=\",\",index=False)"
   ]
  },
  {
   "cell_type": "code",
   "execution_count": 31,
   "metadata": {
    "scrolled": true
   },
   "outputs": [
    {
     "name": "stdout",
     "output_type": "stream",
     "text": [
      "Importancia de las variables:\n",
      "             Variable  Importancia de Gini\n",
      "12     Rad_accu_prev2             0.593411\n",
      "11     Rad_accu_prev1             0.198949\n",
      "1                   P             0.081928\n",
      "22        Clon_TSH565             0.045514\n",
      "9         P_accu_prev             0.018394\n",
      "2                   K             0.016772\n",
      "8             Hum_avg             0.011310\n",
      "6              EC_avg             0.009152\n",
      "19         Clon_SCC61             0.009094\n",
      "16         Clon_ICS95             0.007013\n",
      "5               T_avg             0.005506\n",
      "17         Clon_SCC19             0.002957\n",
      "21         Clon_SCC83             0.000000\n",
      "0               Month             0.000000\n",
      "23         Level_50.0             0.000000\n",
      "24        Level_100.0             0.000000\n",
      "25        Level_150.0             0.000000\n",
      "26     Exposicion_SOL             0.000000\n",
      "20         Clon_SCC64             0.000000\n",
      "14          Clon_EET8             0.000000\n",
      "18         Clon_SCC52             0.000000\n",
      "15          Clon_ICS1             0.000000\n",
      "13         Clon_CCN51             0.000000\n",
      "10        T_avg _prev             0.000000\n",
      "7              P_accu             0.000000\n",
      "4            Rad_accu             0.000000\n",
      "3                  OM             0.000000\n",
      "27  Exposicion_SOMBRA             0.000000\n"
     ]
    }
   ],
   "source": [
    "print(\"Importancia de las variables:\")\n",
    "print(importa.sort_values(by=\"Importancia de Gini\",ascending=False))\n",
    "importa.sort_values(by=\"Importancia de Gini\",ascending=False).to_csv(\"Importancia_arbol.csv\",decimal=\",\")"
   ]
  },
  {
   "cell_type": "markdown",
   "metadata": {},
   "source": [
    "## Curva de aprendizaje"
   ]
  },
  {
   "cell_type": "code",
   "execution_count": 32,
   "metadata": {},
   "outputs": [
    {
     "data": {
      "text/plain": [
       "<module 'matplotlib.pyplot' from 'C:\\\\Users\\\\Usuario\\\\Anaconda3\\\\lib\\\\site-packages\\\\matplotlib\\\\pyplot.py'>"
      ]
     },
     "execution_count": 32,
     "metadata": {},
     "output_type": "execute_result"
    },
    {
     "data": {
      "image/png": "[encoded data removed]",
      "text/plain": [
       "<Figure size 432x288 with 1 Axes>"
      ]
     },
     "metadata": {
      "needs_background": "light"
     },
     "output_type": "display_data"
    }
   ],
   "source": [
    "import Curva\n",
    "\n",
    "X=data.drop([\"Total\",\"Year\",\"Cod\",'P_days'],axis=1).values # Asignar variables independientes\n",
    "y=data['Total'].values # Asignar variable dependiente\n",
    "\n",
    "# Normalización de los atributos\n",
    "scaler= preprocessing.StandardScaler().fit(X)\n",
    "X_scaled=scaler.transform(X)\n",
    "\n",
    "title = \" \"\n",
    "\n",
    "cv = ShuffleSplit(n_splits=10, test_size=0.2)\n",
    "estimator = DecisionTreeRegressor(max_depth=model.best_params_['max_depth'],\n",
    "                                  min_samples_split=model.best_params_['min_samples_split'],\n",
    "                                  max_features=model.best_params_['max_features'],criterion=\"mae\")\n",
    "\n",
    "Curva.plot_learning_curve(estimator, title, X_scaled, y, cv=cv, n_jobs=4)\n",
    "#plt.savefig(\"LC árbol.jpg\",dpi=600);"
   ]
  },
  {
   "cell_type": "markdown",
   "metadata": {},
   "source": [
    "## Estrategia de oscilación"
   ]
  },
  {
   "cell_type": "code",
   "execution_count": 33,
   "metadata": {},
   "outputs": [],
   "source": [
    "predictores = nombres\n",
    "X_ = pd.DataFrame(X_Test,columns=nombres)\n",
    "y = y_Test"
   ]
  },
  {
   "cell_type": "code",
   "execution_count": 34,
   "metadata": {},
   "outputs": [],
   "source": [
    "var = ['T_avg','T_avg _prev',\"P_accu\", \"P_accu_prev\",\"Rad_accu\",\"Rad_accu_prev1\",\"Rad_accu_prev2\",\"Hum_avg\",\"EC_avg\"]"
   ]
  },
  {
   "cell_type": "code",
   "execution_count": 35,
   "metadata": {},
   "outputs": [
    {
     "data": {
      "text/plain": [
       "(112,)"
      ]
     },
     "execution_count": 35,
     "metadata": {},
     "output_type": "execute_result"
    }
   ],
   "source": [
    "X.shape\n",
    "y.shape"
   ]
  },
  {
   "cell_type": "code",
   "execution_count": 36,
   "metadata": {},
   "outputs": [],
   "source": [
    "R_2 = []\n",
    "RMSE = []\n",
    "MAE = []\n",
    "pre = []\n",
    "rango = []\n",
    "\n",
    "for i in var:\n",
    "    \n",
    "    X = X_.copy()\n",
    "    promedio = []\n",
    "    \n",
    "    for j in np.linspace(X[i].min(), X[i].max(),100):\n",
    "        \n",
    "        X[i] = j\n",
    "        \n",
    "        prediction = modelo.predict(X)\n",
    "\n",
    "        r_2=r2_score(y,prediction)\n",
    "        R_2.append(r_2)\n",
    "        promedio.append(np.mean(prediction))\n",
    "        pre.append(np.mean(prediction))\n",
    "        RMSE.append(np.linalg.norm((y-prediction),2)/np.sqrt(len(y)))\n",
    "        MAE.append(median_absolute_error(y,prediction))\n",
    "        \n",
    "    rango.append(max(promedio)-min(promedio))"
   ]
  },
  {
   "cell_type": "code",
   "execution_count": 37,
   "metadata": {},
   "outputs": [],
   "source": [
    "dic = {}\n",
    "\n",
    "for i in var:\n",
    "    if i not in dic:\n",
    "        dic[i] = np.linspace(X_[i].min(), X_[i].max(),100)\n",
    "\n",
    "RMSE_1 = RMSE[:100]\n",
    "RMSE_2 = RMSE[100:200]\n",
    "RMSE_3 = RMSE[200:300]\n",
    "RMSE_4 = RMSE[300:400]\n",
    "RMSE_5 = RMSE[400:500]\n",
    "RMSE_6 = RMSE[500:600]\n",
    "RMSE_7 = RMSE[600:700]\n",
    "RMSE_8 = RMSE[-100:]\n",
    "\n",
    "PRE_1 = pre[:100]\n",
    "PRE_2 = pre[100:200]\n",
    "PRE_3 = pre[200:300]\n",
    "PRE_4 = pre[300:400]\n",
    "PRE_5 = pre[400:500]\n",
    "PRE_6 = pre[500:600]\n",
    "PRE_7 = pre[600:700]\n",
    "PRE_8 = pre[-100:]"
   ]
  },
  {
   "cell_type": "code",
   "execution_count": 38,
   "metadata": {},
   "outputs": [],
   "source": [
    "pde = pd.DataFrame(dic)\n",
    "pde[\"RMSE_1\"],pde[\"RMSE_2\"],pde[\"RMSE_3\"],pde[\"RMSE_4\"],pde[\"RMSE_5\"],pde[\"RMSE_6\"],pde[\"RMSE_7\"],pde[\"RMSE_8\"] = RMSE_1,RMSE_2,RMSE_3,RMSE_4,RMSE_5,RMSE_6,RMSE_7,RMSE_8\n",
    "pde[\"PRE_1\"],pde[\"PRE_2\"],pde[\"PRE_3\"],pde[\"PRE_4\"],pde[\"PRE_5\"],pde[\"PRE_6\"],pde[\"PRE_7\"],pde[\"PRE_8\"] = PRE_1,PRE_2,PRE_3,PRE_4,PRE_5,PRE_6,PRE_7,PRE_8\n",
    "pde.to_csv(\"Evaluación_arbol.csv\",decimal=\",\",index=False)"
   ]
  },
  {
   "cell_type": "code",
   "execution_count": 39,
   "metadata": {},
   "outputs": [
    {
     "data": {
      "image/png": "[encoded data removed]",
      "text/plain": [
       "<Figure size 864x576 with 4 Axes>"
      ]
     },
     "metadata": {
      "needs_background": "light"
     },
     "output_type": "display_data"
    }
   ],
   "source": [
    "plt.figure(figsize=(12,8))\n",
    "\n",
    "plt.subplot(2,2,1)\n",
    "plt.ylim(10,50)\n",
    "plt.title(\"Temperatura promedio\")\n",
    "plt.plot(pde.T_avg,pde.PRE_1)\n",
    "\n",
    "plt.subplot(2,2,2)\n",
    "plt.ylim(10,50)\n",
    "plt.title(\"Temperatura mes previo\")\n",
    "plt.plot(pde['T_avg _prev'],pde.PRE_2)\n",
    "\n",
    "plt.subplot(2,2,3)\n",
    "plt.ylim(10,50)\n",
    "plt.title(\"Lluvias acumuladas\")\n",
    "plt.plot(pde.P_accu,pde.PRE_3)\n",
    "\n",
    "plt.subplot(2,2,4)\n",
    "plt.ylim(10,50)\n",
    "plt.title(\"Lluvias mes previo\")\n",
    "plt.plot(pde.P_accu_prev,pde.PRE_4)\n",
    "\n",
    "plt.subplots_adjust(top=0.92,bottom=0.05,left=0.05,right=0.95,\n",
    "                   hspace=0.35,wspace=0.25)"
   ]
  },
  {
   "cell_type": "code",
   "execution_count": 40,
   "metadata": {},
   "outputs": [
    {
     "data": {
      "image/png": "[encoded data removed]",
      "text/plain": [
       "<Figure size 864x576 with 4 Axes>"
      ]
     },
     "metadata": {
      "needs_background": "light"
     },
     "output_type": "display_data"
    }
   ],
   "source": [
    "plt.figure(figsize=(12,8))\n",
    "\n",
    "plt.subplot(2,2,1)\n",
    "plt.ylim(20,50)\n",
    "plt.title(\"Radiación acumulada\")\n",
    "plt.plot(pde.Rad_accu,pde.PRE_5)\n",
    "\n",
    "plt.subplot(2,2,2)\n",
    "plt.ylim(20,50)\n",
    "plt.title(\"Radiación mes previo\")\n",
    "plt.plot(pde.Rad_accu_prev1,pde.PRE_6)\n",
    "\n",
    "plt.subplot(2,2,3)\n",
    "plt.ylim(20,50)\n",
    "plt.title(\"Humedad promedio\")\n",
    "plt.plot(pde.Hum_avg,pde.PRE_7)\n",
    "\n",
    "plt.subplot(2,2,4)\n",
    "plt.ylim(20,50)\n",
    "plt.title(\"Conductividad eléctrica\")\n",
    "plt.plot(pde.EC_avg,pde.PRE_8)\n",
    "\n",
    "plt.subplots_adjust(top=0.92,bottom=0.08,left=0.1,right=0.95,\n",
    "                   hspace=0.3,wspace=0.35)"
   ]
  }
 ],
 "metadata": {
  "kernelspec": {
   "display_name": "Python 3",
   "language": "python",
   "name": "python3"
  },
  "language_info": {
   "codemirror_mode": {
    "name": "ipython",
    "version": 3
   },
   "file_extension": ".py",
   "mimetype": "text/x-python",
   "name": "python",
   "nbconvert_exporter": "python",
   "pygments_lexer": "ipython3",
   "version": "3.6.5"
  }
 },
 "nbformat": 4,
 "nbformat_minor": 2
}
