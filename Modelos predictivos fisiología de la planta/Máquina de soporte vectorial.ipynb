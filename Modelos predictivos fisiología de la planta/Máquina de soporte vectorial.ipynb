{
 "cells": [
  {
   "cell_type": "markdown",
   "metadata": {},
   "source": [
    "## MÁQUINAS DE SOPORTE VECTORIAL"
   ]
  },
  {
   "cell_type": "markdown",
   "metadata": {},
   "source": [
    "### 1. Importar paquetes y librerías"
   ]
  },
  {
   "cell_type": "code",
   "execution_count": 1,
   "metadata": {},
   "outputs": [],
   "source": [
    "%matplotlib inline\n",
    "import pandas as pd\n",
    "import numpy as np\n",
    "import matplotlib.pyplot as plt\n",
    "from sklearn import svm\n",
    "from sklearn.svm import SVR # \"Support vector regression\"\n",
    "from sklearn.model_selection import GridSearchCV\n",
    "from sklearn import preprocessing\n",
    "\n",
    "from sklearn.preprocessing import MinMaxScaler\n",
    "from statsmodels.graphics.api import abline_plot\n",
    "from scipy import stats\n",
    "from statsmodels import graphics\n",
    "\n",
    "from sklearn.model_selection import train_test_split, cross_val_predict, cross_validate, RepeatedKFold, ShuffleSplit, learning_curve\n",
    "from sklearn.metrics import r2_score, median_absolute_error,mean_squared_error\n",
    "\n",
    "from sklearn.model_selection import train_test_split\n",
    "from statsmodels.tools.eval_measures import rmse\n",
    "pd.set_option(\"display.max_rows\", 10)"
   ]
  },
  {
   "cell_type": "markdown",
   "metadata": {},
   "source": [
    "### 2. Importar conjunto de datos"
   ]
  },
  {
   "cell_type": "code",
   "execution_count": 2,
   "metadata": {},
   "outputs": [],
   "source": [
    "#Importando conjunto de datos\n",
    "\n",
    "cacao=pd.read_excel(\"TODAS LAS VARIABLES Y TOTAL.xlsx\")"
   ]
  },
  {
   "cell_type": "code",
   "execution_count": 3,
   "metadata": {},
   "outputs": [],
   "source": [
    "#Eliminar valores faltantes del conjunto de datos\n",
    "\n",
    "cacao=cacao.dropna()"
   ]
  },
  {
   "cell_type": "code",
   "execution_count": 4,
   "metadata": {},
   "outputs": [],
   "source": [
    "#Definir variables exógenas\n",
    "\n",
    "x=cacao[[   \"Uso eficiente del agua\", \"Transpiracion\",\n",
    "            \"Diametro tronco (cm)\",\n",
    "            \"P\", \"MO\", \"Na\",\n",
    "            \"Radiacion\", \"Temperatura\", \"Humedad\", \"Lluvias acumuladas (mms)\" ]]"
   ]
  },
  {
   "cell_type": "code",
   "execution_count": 5,
   "metadata": {},
   "outputs": [],
   "source": [
    "#Definir variable endógena\n",
    "\n",
    "y=cacao[\"Rendimiento\"]"
   ]
  },
  {
   "cell_type": "markdown",
   "metadata": {},
   "source": [
    "### Histograma variable respuesta"
   ]
  },
  {
   "cell_type": "code",
   "execution_count": 6,
   "metadata": {
    "scrolled": false
   },
   "outputs": [
    {
     "data": {
      "image/png": "[encoded data removed]",
      "text/plain": [
       "<Figure size 432x288 with 1 Axes>"
      ]
     },
     "metadata": {
      "needs_background": "light"
     },
     "output_type": "display_data"
    }
   ],
   "source": [
    "Respuesta=[\"Rendimiento\"]\n",
    "cacao.hist(Respuesta);"
   ]
  },
  {
   "cell_type": "code",
   "execution_count": 7,
   "metadata": {},
   "outputs": [],
   "source": [
    "#Dividir el conjunto de datos entre entrenamiento y prueba\n",
    "X_train, X_test, y_train, y_test = train_test_split(x, y, test_size=0.2) \n",
    "   \n",
    "# Normalización de los atributos\n",
    "scaler= preprocessing.StandardScaler().fit(X_train)\n",
    "X_train_scaled=scaler.transform(X_train)\n",
    "X_test_scaled=scaler.transform(X_test)"
   ]
  },
  {
   "cell_type": "markdown",
   "metadata": {},
   "source": [
    "#### Búsqueda de parámetros"
   ]
  },
  {
   "cell_type": "code",
   "execution_count": 8,
   "metadata": {},
   "outputs": [
    {
     "name": "stderr",
     "output_type": "stream",
     "text": [
      "C:\\Users\\Usuario\\Anaconda3\\lib\\site-packages\\sklearn\\model_selection\\_search.py:841: DeprecationWarning: The default of the `iid` parameter will change from True to False in version 0.22 and will be removed in 0.24. This will change numeric results when test-set sizes are unequal.\n",
      "  DeprecationWarning)\n"
     ]
    }
   ],
   "source": [
    "#Búsqueda de los mejores parámetros para el modelo SVM con kernel lineal\n",
    "\n",
    "svr = GridSearchCV(SVR(kernel='linear', gamma=1, epsilon=0.1), cv=5,\n",
    "                   param_grid = {'C':[1e1, 1e2, 1e3, 1e4],\n",
    "                             \"gamma\":np.logspace(-2,2,5),\n",
    "                             \"epsilon\": np.logspace(0,1,5)})\n",
    "svr.fit(X_train_scaled, y_train);"
   ]
  },
  {
   "cell_type": "code",
   "execution_count": 9,
   "metadata": {},
   "outputs": [
    {
     "name": "stdout",
     "output_type": "stream",
     "text": [
      "Los mejores parámetros para el modelo SVM con kernel lineal son:\n"
     ]
    },
    {
     "data": {
      "text/plain": [
       "{'C': 10000.0, 'epsilon': 1.0, 'gamma': 0.01}"
      ]
     },
     "execution_count": 9,
     "metadata": {},
     "output_type": "execute_result"
    }
   ],
   "source": [
    "print(\"Los mejores parámetros para el modelo SVM con kernel lineal son:\")\n",
    "svr.best_params_"
   ]
  },
  {
   "cell_type": "markdown",
   "metadata": {},
   "source": [
    "### 3. Desarrollo modelo predictivo"
   ]
  },
  {
   "cell_type": "markdown",
   "metadata": {},
   "source": [
    "#### Predicción modelo SVM"
   ]
  },
  {
   "cell_type": "code",
   "execution_count": 12,
   "metadata": {
    "collapsed": true
   },
   "outputs": [
    {
     "name": "stdout",
     "output_type": "stream",
     "text": [
      "[1435.86923069 1529.42961745 1467.16876612 1664.3136325  2729.67832225\n",
      " 2036.01307373 1285.25890862 2046.54712099 2698.58885397 2479.10046796\n",
      " 2453.24848732 1955.32187331 1591.23448074 1597.44029753 2044.28779719\n",
      "  304.37442209 1932.59550695  390.16299155 1103.67569761 2045.97037397\n",
      " 2598.93278203 2331.68134144 2240.79888612 1176.75484937 2622.08141706\n",
      " 2099.98539918 2663.6379553  1858.33215668  823.5578574   266.246169\n",
      " 2120.54430338 2525.57658582 1584.73087983 1050.93533652 2971.84133448\n",
      " 2176.1928116  2215.86493611 1154.98737722 1821.38810209  665.18921399\n",
      "  788.60695873 2099.56016222  455.49539502 3254.62587826 1912.09625117\n",
      " 1883.50006135  693.95971005 2482.76270777  549.03071278  800.3983458\n",
      "  994.01512874  791.18675544  664.69013618 1467.64277494 1114.75459687\n",
      " 2310.95161419 2584.43804935 2354.17375314 1267.09330301 1931.58561469\n",
      " 1880.32270693  773.23083747 2853.12113598 2007.41688391  533.14394065\n",
      " 3060.12318239 1528.012509   2533.60037856 1734.5405466  2602.00739825\n",
      " 1662.52038087 2942.08705987 2993.39873948 1973.90111447 2090.20240518\n",
      "  302.98238264  934.76526226 2312.69383938 1198.48567949 1636.04255944\n",
      " 2668.83457937 1001.98878298 1234.42123783 2282.58937903 1144.98130513\n",
      " 1499.21448223 1181.68087674  585.25627557 1242.0506108  1647.11849413\n",
      "   43.83135928  962.2415845   881.24931485 2481.09362388 3072.25585307\n",
      "  502.64506053 2056.99721489 2075.82738678  594.78833884 2786.87070189\n",
      " 2780.04198422 2608.93885412 1101.77300731 1324.33670908 1218.04888385\n",
      " 1928.40826026 3054.45254951 1898.12949367  978.12835662 1964.36905119\n",
      " 3152.95053667 2751.16874996 1840.45222864 1441.89882279 1485.74631385\n",
      " 2392.87875325   27.02655653 2462.20380357 1530.71585461 3002.93080275\n",
      " 1318.35621076 2398.48240884 1597.96340012  641.32878762 2168.20461975\n",
      "  643.43331488 1530.81372024  893.45965474 1788.35373486 2653.42181606\n",
      "  698.36637073 2468.38420618 2714.4756261  2169.71289028 1209.80305774\n",
      " 2533.60037856 2824.52494617 1675.22979857  917.48645069 3018.81757487\n",
      " 3212.16218595 2653.42181606 1942.61245561 2760.97785768  261.67677513\n",
      " 1534.1653809  1518.79079986 2150.64876373 1502.59367361 2185.87670685\n",
      " 1879.06536712  623.88360647 2050.64250604  734.59193352  689.51141385\n",
      "  985.04289272 2838.39244865 2166.18673951 2558.10118333 3241.23238459\n",
      " 3440.93170451 3191.07878977 1272.2382153   503.95391547 2544.91775681\n",
      " 2236.4373332  1505.82012181 1425.86315861 2274.73989253 2276.00071552\n",
      " 2157.00347258 1093.63298348 2271.66527631 1947.57512501 1261.11473735\n",
      " 1373.90343811  726.04452992 1094.13206129 1861.25858038 2131.33370646\n",
      " 1410.07425211  988.78028748  304.25704677 2742.82088519 1992.96524101\n",
      " 2646.5930984  2211.29554224 1214.87152942 2449.32007964  989.27936528\n",
      " 1133.64441718 1219.43298664  709.17309812 1440.47526661 2757.80050325\n",
      " 1507.67371834  941.61904892 2560.52748449 2789.5740475  1839.01709941\n",
      " 1279.97702694 1387.73490551 3079.18730894 2574.42110069 3072.25585307\n",
      "  760.01076891  430.23929282 1642.19543133 1141.29329985  876.65485199\n",
      " 2469.81933541 2250.81583478 1144.47065427 2114.18959453 1146.40486131\n",
      " 1049.6606724  1936.25774676 1842.19445384 2774.84536016  831.69788123\n",
      " 1331.01653469 1623.13130478 1476.79869502  951.16268524 1152.70854372\n",
      "  821.05388703 1486.23289267 2612.11620854 2441.22314559 1401.97731806\n",
      " 1365.49342454 2093.45638409 1797.76251833 1149.43332368 2284.84870282\n",
      "  801.98976048 1168.97145904 1278.06049551 1926.49172883 1770.5504313\n",
      "  482.4610664  2822.50567653 1407.07120392 2519.97293023  518.53183265\n",
      " 1437.46064537 1451.55416586  737.76928794 1609.0377843  1435.4930875\n",
      " 2271.38823186 2291.63655691 2278.01998516  974.95100219 2692.91725218\n",
      " 2082.41605029 1429.51452185 2955.95456236 3051.27519509  458.67274944\n",
      " 2511.35889759 1833.08762753 2821.82160056 1495.86282157 2452.6717403\n",
      "  770.05348304 2951.3420787   679.30224418  364.8989527   790.50964904\n",
      "  872.20283344  378.72823798  672.94753533  776.57092508 2409.68355601\n",
      "  878.24626667 1084.59999802 3113.66419879 1277.9195401  1228.96504991\n",
      " 1483.52954706 2723.3236134  2587.38144912 2560.80452893 1225.68982986\n",
      " 1305.2215561  2223.90222174 1368.81967103 1118.86778963 2053.33497508\n",
      "  917.96045951 1995.13270317 2310.95161419 2094.6405826  3343.59180214\n",
      "  637.07860603 1448.37681144 1958.01434234 1452.81498885 2439.9623226\n",
      " 1219.43298664  786.10298836 2330.01574073 2150.82306997 2256.56057788\n",
      " 3133.20233415 2636.78399068 2328.85765595  662.01185956 1394.18747998\n",
      " 3362.65592869  690.61962243]\n"
     ]
    }
   ],
   "source": [
    "#Modelo SVM con kernel lineal\n",
    "\n",
    "svr_lin = SVR(kernel='linear', C=1e4, epsilon=1e1, gamma=0.01).fit(X_train_scaled, y_train)\n",
    "y_lin = svr_lin.predict(X_train_scaled)\n",
    "print(y_lin)"
   ]
  },
  {
   "cell_type": "code",
   "execution_count": 13,
   "metadata": {},
   "outputs": [
    {
     "name": "stdout",
     "output_type": "stream",
     "text": [
      "Coeficientes: \n",
      " [[  496.13852058  2025.99113     1088.16137458 -1242.87705329\n",
      "    935.8805589    563.95228774  -421.70743422 -2221.50387694\n",
      "   2181.13712834]]\n"
     ]
    }
   ],
   "source": [
    "print('Coeficientes: \\n',svr_lin.coef_)"
   ]
  },
  {
   "cell_type": "markdown",
   "metadata": {},
   "source": [
    "### 4. Validación"
   ]
  },
  {
   "cell_type": "markdown",
   "metadata": {},
   "source": [
    "### Hold Out Validation"
   ]
  },
  {
   "cell_type": "code",
   "execution_count": null,
   "metadata": {},
   "outputs": [],
   "source": [
    "R_2=[]\n",
    "RMSE=[]\n",
    "MAE=[]\n",
    "pred=[0]\n",
    "obs=[0]\n",
    "\n",
    "for i in range(20):\n",
    "    x_train,x_test,y_train,y_test=train_test_split(x,y,test_size=0.2, random_state=12) #Hacer partición de datos en entrenamiento y prueba\n",
    "\n",
    "    #Escalando particiòn de datos\n",
    "    scaler= preprocessing.StandardScaler().fit(x_train)\n",
    "    X_train_scaled=scaler.transform(x_train)\n",
    "    X_test_scaled=scaler.transform(x_test)\n",
    "    \n",
    "    # Ajuste de los modelos\n",
    "    svr_lin = SVR(kernel='linear', C=1e4, epsilon=1e1, gamma=0.01).fit(X_train_scaled, y_train)\n",
    "    y_lin = svr_lin.predict(X_test_scaled)\n",
    "    \n",
    "    r_2=r2_score(y_test, y_lin)\n",
    "    R_2.append(r_2)\n",
    "    RMSE.append(np.linalg.norm((y_test-y_lin,2)/np.sqrt(len(y_test))))\n",
    "    MAE.append(median_absolute_error(y_test,y_lin))\n",
    "    \n",
    "    if r_2 >= max(R_2):\n",
    "        pred[0] = y_lin\n",
    "        obs[0] = y_test\n",
    "    \n",
    "print(\"R^2: %.4f\" % np.mean(R_2))\n",
    "print(\"RMSE: %.4f\" % np.mean(RMSE))\n",
    "print(\"MAE: %.4f\" % np.mean(MAE))"
   ]
  },
  {
   "cell_type": "code",
   "execution_count": null,
   "metadata": {},
   "outputs": [],
   "source": [
    "datos = np.asarray(RMSE)\n",
    "np.savetxt(\"RMSE_SVM.csv\",   # Archivo de salida\n",
    "           datos.T,        # Trasponemos los datos\n",
    "           fmt=\"%d\",       # Usando números enteros\n",
    "           delimiter=\",\")  # Para que sea un archivo CSV"
   ]
  },
  {
   "cell_type": "code",
   "execution_count": null,
   "metadata": {},
   "outputs": [],
   "source": [
    "\n"
   ]
  }
 ],
 "metadata": {
  "kernelspec": {
   "display_name": "Python 3",
   "language": "python",
   "name": "python3"
  },
  "language_info": {
   "codemirror_mode": {
    "name": "ipython",
    "version": 3
   },
   "file_extension": ".py",
   "mimetype": "text/x-python",
   "name": "python",
   "nbconvert_exporter": "python",
   "pygments_lexer": "ipython3",
   "version": "3.6.5"
  }
 },
 "nbformat": 4,
 "nbformat_minor": 2
}
