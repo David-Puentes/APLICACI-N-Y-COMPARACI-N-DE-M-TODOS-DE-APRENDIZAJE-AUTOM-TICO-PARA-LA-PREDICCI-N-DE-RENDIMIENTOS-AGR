{
 "cells": [
  {
   "cell_type": "markdown",
   "metadata": {},
   "source": [
    "## MODELO LINEAL GENERALIZADO"
   ]
  },
  {
   "cell_type": "markdown",
   "metadata": {},
   "source": [
    "### 1. Importar paquetes y librerías"
   ]
  },
  {
   "cell_type": "code",
   "execution_count": 1,
   "metadata": {},
   "outputs": [],
   "source": [
    "%matplotlib inline\n",
    "import pandas as pd\n",
    "import numpy as np\n",
    "import matplotlib.pyplot as plt\n",
    "from sklearn.metrics import r2_score\n",
    "import statsmodels.api as sm\n",
    "from statsmodels.graphics.api import abline_plot\n",
    "from sklearn.model_selection import train_test_split, cross_val_predict, cross_validate, RepeatedKFold, ShuffleSplit, learning_curve\n",
    "from scipy import stats\n",
    "from sklearn.metrics import r2_score, median_absolute_error,mean_squared_error\n",
    "from statsmodels import graphics\n",
    "\n",
    "from sklearn.model_selection import train_test_split\n",
    "from statsmodels.tools.eval_measures import rmse\n",
    "pd.set_option(\"display.max_rows\", 10)"
   ]
  },
  {
   "cell_type": "markdown",
   "metadata": {},
   "source": [
    "### 2. Importar datos"
   ]
  },
  {
   "cell_type": "code",
   "execution_count": 50,
   "metadata": {},
   "outputs": [],
   "source": [
    "cacao=pd.read_excel(\"TODAS LAS VARIABLES Y TOTAL.xlsx\")"
   ]
  },
  {
   "cell_type": "code",
   "execution_count": 51,
   "metadata": {},
   "outputs": [],
   "source": [
    "#Eliminar valores faltantes del conjunto de datos\n",
    "\n",
    "cacao=cacao.dropna()"
   ]
  },
  {
   "cell_type": "code",
   "execution_count": 53,
   "metadata": {},
   "outputs": [],
   "source": [
    "#Definir variables exógenas\n",
    "\n",
    "x=cacao[[   \"Uso eficiente del agua\", \"Transpiracion\",\n",
    "            \"Diametro tronco (cm)\",\n",
    "            \"P\", \"MO\", \"Na\",\n",
    "            \"Radiacion\", \"Temperatura\", \"Humedad\", \"Lluvias acumuladas (mms)\" ]]"
   ]
  },
  {
   "cell_type": "code",
   "execution_count": 54,
   "metadata": {},
   "outputs": [],
   "source": [
    "#Definir variable endógena\n",
    "\n",
    "y=cacao[[\"Rendimiento\"]]"
   ]
  },
  {
   "cell_type": "markdown",
   "metadata": {},
   "source": [
    "### Histograma variable respuesta"
   ]
  },
  {
   "cell_type": "code",
   "execution_count": 55,
   "metadata": {
    "scrolled": true
   },
   "outputs": [
    {
     "data": {
      "image/png": "[encoded data removed]",
      "text/plain": [
       "<Figure size 432x288 with 1 Axes>"
      ]
     },
     "metadata": {
      "needs_background": "light"
     },
     "output_type": "display_data"
    }
   ],
   "source": [
    "Respuesta=[\"Rendimiento\"]\n",
    "cacao.hist(Respuesta);"
   ]
  },
  {
   "cell_type": "markdown",
   "metadata": {},
   "source": [
    "### 3. Desarollo modelo predictivo"
   ]
  },
  {
   "cell_type": "markdown",
   "metadata": {},
   "source": [
    "### Resultados predicción modelo lineal generalizado"
   ]
  },
  {
   "cell_type": "code",
   "execution_count": null,
   "metadata": {},
   "outputs": [],
   "source": [
    "glm_gamma = sm.GLM(y, x, family=sm.families.Gamma(link=sm.genmod.families.links.log))\n",
    "glm_results = glm_gamma.fit()\n",
    "print(glm_results.summary())"
   ]
  },
  {
   "cell_type": "code",
   "execution_count": 59,
   "metadata": {},
   "outputs": [],
   "source": [
    "# Las variables cuyo valor p sea menor a 0.05 serán significativas por lo que se almacenan en la lista varSelec\n",
    "\n",
    "varSelec=[]\n",
    "for i in range(len(glm_results.pvalues)):\n",
    "    if glm_results.pvalues[i] < 0.05:\n",
    "        varSelec.append(glm_results.pvalues.index[i])"
   ]
  },
  {
   "cell_type": "markdown",
   "metadata": {},
   "source": [
    "### 4. Validación"
   ]
  },
  {
   "cell_type": "markdown",
   "metadata": {},
   "source": [
    "### Hold out validation"
   ]
  },
  {
   "cell_type": "code",
   "execution_count": 62,
   "metadata": {},
   "outputs": [
    {
     "name": "stdout",
     "output_type": "stream",
     "text": [
      "R^2: 0.1742\n",
      "RMSE: 1717.3700\n",
      "MAE: 1057.2611\n"
     ]
    }
   ],
   "source": [
    "x=cacao[varSelec]\n",
    "y=cacao.Rendimiento\n",
    "\n",
    "R_2=[]\n",
    "RMSE=[]\n",
    "MAE=[]\n",
    "pred=[0]\n",
    "obs=[0]\n",
    "\n",
    "for i in range(20):\n",
    "    X1_train,X1_test,y1_train,y1_test=train_test_split(x,y,test_size=0.2) #Hacer partición de datos en entrenamiento y prueba\n",
    "\n",
    "    glm_gamma=sm.GLM(y1_train,X1_train,family=sm.families.Gamma(link = sm.genmod.families.links.log))\n",
    "    res=glm_gamma.fit()\n",
    "    \n",
    "    r_2=r2_score(y1_test,res.predict(X1_test))\n",
    "    R_2.append(r_2)\n",
    "    RMSE.append(np.linalg.norm((y1_test-res.predict(X1_test)),2)/np.sqrt(len(y1_test)))\n",
    "    MAE.append(median_absolute_error(y1_test,res.predict(X1_test)))\n",
    "    \n",
    "    if r_2 >= max(R_2):\n",
    "        pred[0] = res.predict(X1_test)\n",
    "        obs[0] = y1_test\n",
    "    \n",
    "print(\"R^2: %.4f\" % np.mean(R_2))\n",
    "print(\"RMSE: %.4f\" % np.mean(RMSE))\n",
    "print(\"MAE: %.4f\" % np.mean(MAE))"
   ]
  },
  {
   "cell_type": "code",
   "execution_count": 63,
   "metadata": {},
   "outputs": [],
   "source": [
    "datos = np.asarray(RMSE)\n",
    "np.savetxt(\"RMSE_GLM.csv\",   # Archivo de salida\n",
    "           datos.T,        # Trasponemos los datos\n",
    "           fmt=\"%d\",       # Usando números enteros\n",
    "           delimiter=\",\")  # Para que sea un archivo CSV"
   ]
  }
 ],
 "metadata": {
  "kernelspec": {
   "display_name": "Python 3",
   "language": "python",
   "name": "python3"
  },
  "language_info": {
   "codemirror_mode": {
    "name": "ipython",
    "version": 3
   },
   "file_extension": ".py",
   "mimetype": "text/x-python",
   "name": "python",
   "nbconvert_exporter": "python",
   "pygments_lexer": "ipython3",
   "version": "3.6.5"
  }
 },
 "nbformat": 4,
 "nbformat_minor": 2
}
